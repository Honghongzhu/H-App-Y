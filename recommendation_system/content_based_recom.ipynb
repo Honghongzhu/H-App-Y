{
 "cells": [
  {
   "cell_type": "code",
   "execution_count": 1,
   "metadata": {},
   "outputs": [],
   "source": [
    "import pandas as pd\n",
    "import numpy as np\n",
    "from operator import itemgetter"
   ]
  },
  {
   "cell_type": "markdown",
   "metadata": {},
   "source": [
    "##### For this code to work, a file called ```user_ratings_.csv``` must exist containing the following columns: ```userId, movieId, enjoyRating, meaningRating``` plus a column per character strength with names as in the movie dataset ```final_movie_dataset.csv```"
   ]
  },
  {
   "cell_type": "code",
   "execution_count": 2,
   "metadata": {},
   "outputs": [],
   "source": [
    "movie_df = pd.read_csv('./final_movie_dataset.csv', low_memory=False)\n",
    "user_ratings_df = pd.read_csv('./user_ratings.csv', delimiter=';', low_memory=False)"
   ]
  },
  {
   "cell_type": "code",
   "execution_count": 3,
   "metadata": {},
   "outputs": [],
   "source": [
    "has_ch_strengths = movie_df['averageMeaningRating'] > 0.0\n",
    "ch_movie_df = movie_df[has_ch_strengths]"
   ]
  },
  {
   "cell_type": "markdown",
   "metadata": {},
   "source": [
    "##### The dataframe ```ch_movie_df``` contains only movies which have character strengths data. The recommendations can only be done for those."
   ]
  },
  {
   "cell_type": "code",
   "execution_count": 4,
   "metadata": {},
   "outputs": [],
   "source": [
    "def cosine_similarity(a, b): \n",
    "    return np.dot(a,b)/(np.linalg.norm(a)*np.linalg.norm(b))"
   ]
  },
  {
   "cell_type": "code",
   "execution_count": 5,
   "metadata": {},
   "outputs": [],
   "source": [
    "def get_user_score(user_ratings_df, user_id):\n",
    "    '''\n",
    "    Calculates the user profile's score based on character strengths and\n",
    "    meaningful score. Only movies with meaningful score > 3.0 are taken\n",
    "    into account. \n",
    "    '''\n",
    "    \n",
    "    if user_id not in user_ratings_df['userId'].unique():\n",
    "        raise Exception(f\"The user with id {user_id} is not in the database.\")\n",
    "    \n",
    "    USER_ID_COL = 0 \n",
    "    MEANING_RATING_COL = 3\n",
    "    \n",
    "    relevant_df = user_ratings_df[(user_ratings_df['userId'] == user_id) & (user_ratings_df['meaningRating'] >= 3.0)]\n",
    "    meaning_scores = relevant_df.iloc[:, 3].values\n",
    "    \n",
    "    # We want every value of meaning_scores to multiply a whole row of character strengths.\n",
    "    # This is done by using a concept called \"broadcasting\"\n",
    "    ch_strs = relevant_df.iloc[:, np.arange(4, len(relevant_df.columns))] * meaning_scores[:, np.newaxis]\n",
    "    \n",
    "    # we sum every character strength weighted score and we normalize it\n",
    "    score = ch_strs.sum()/ch_strs.sum().sum()\n",
    "        \n",
    "    return score"
   ]
  },
  {
   "cell_type": "code",
   "execution_count": 6,
   "metadata": {},
   "outputs": [],
   "source": [
    "def get_movie_score(movie_df, movie_id, max_meaningful_votes, general_score):\n",
    "    '''\n",
    "    Calculate a single movie's score using its character strengths and \n",
    "    meaningful score. As the final score is calculated using a bayesian\n",
    "    estimate, weight and a-priori score parameters are used.\n",
    "    '''\n",
    "    \n",
    "    relevant_df = movie_df[movie_df['movieId'] == movie_id]\n",
    "\n",
    "    meaningful_scores = relevant_df['averageMeaningRating'].values[0]\n",
    "    weight = relevant_df['numMeaningVotes'].values[0]/max_meaningful_votes\n",
    "\n",
    "    ch_strs = relevant_df.iloc[:, np.arange(10, len(relevant_df.columns))] * meaningful_scores\n",
    "    movie_score = ch_strs.sum() / ch_strs.sum().sum()\n",
    "    \n",
    "    return weight*movie_score + (1-weight)*general_score"
   ]
  },
  {
   "cell_type": "code",
   "execution_count": 7,
   "metadata": {},
   "outputs": [],
   "source": [
    "def get_user_recommendations(user_id, ch_movie_df, user_ratings_df):\n",
    "    '''\n",
    "    Returns a user's ranked recommendations by calculating the cosine\n",
    "    similarity of its profile with every movie in the db.\n",
    "    '''\n",
    "    user_score = get_user_score(user_ratings_df, user_id)\n",
    "    \n",
    "    # df with only the character strengths\n",
    "    all_ch_strs = ch_movie_df.iloc[:, np.arange(10, len(ch_movie_df.columns))] * np.array(ch_movie_df['averageMeaningRating'])[:, np.newaxis]\n",
    "    # normalize very row (every movie)\n",
    "    all_ch_strs = all_ch_strs.div(all_ch_strs.sum(axis=1), axis=0)\n",
    "    \n",
    "    # calculate the general score by averaging the scores of every movie\n",
    "    general_score = all_ch_strs.mean(axis=0)\n",
    "    \n",
    "    max_meaningful_votes = ch_movie_df['numMeaningVotes'].max()\n",
    "\n",
    "    movie_cosine_sim = {}\n",
    "\n",
    "    # calculate the cosine similarity between scores of every movie and the user's.\n",
    "    for movie in ch_movie_df['movieId']:\n",
    "        movie_cosine_sim[movie] = cosine_similarity(user_score, get_movie_score(ch_movie_df, movie, max_meaningful_votes, general_score))\n",
    "\n",
    "    # sort the movies by similarity score (higher means better)\n",
    "    sorted_similarities = {k: v for k, v in sorted(movie_cosine_sim.items(), key=itemgetter(1), reverse=True)}\n",
    "    \n",
    "    # this prints the user score together with the score of the top ranked movie\n",
    "    #print(np.array(user_score), np.array(get_movie_score(ch_movie_df, list(sorted_similarities.keys())[0], max_meaningful_votes, general_score)))\n",
    "    \n",
    "    return list(sorted_similarities.keys())[:12], list(sorted_similarities.values())[:12]"
   ]
  },
  {
   "cell_type": "code",
   "execution_count": 8,
   "metadata": {},
   "outputs": [
    {
     "name": "stdout",
     "output_type": "stream",
     "text": [
      "Recommendations for user:\n",
      "\n",
      "Rank\tMovie title                                                  Cosine similarity\n",
      "1\tTaste of Cherry                                              0.6415811282184206\n",
      "2\tThe Lord of the Rings: The Fellowship of the Ring            0.6415811282184206\n",
      "3\tThe Lord of the Rings: The Return of the King                0.6415811282184206\n",
      "4\tThe Lord of the Rings: The Two Towers                        0.6415811282184206\n",
      "5\tLife as a House                                              0.6415811282184206\n",
      "6\tValentin                                                     0.6415811282184206\n",
      "7\tCrash                                                        0.5832853282858642\n",
      "8\tThe Fountain                                                 0.5832853282858642\n",
      "9\tFeast of Love                                                0.5832853282858642\n",
      "10\tStar Wars: Episode IV - A New Hope                           0.5703234321017339\n",
      "11\tThe Karate Kid                                               0.5703234321017339\n",
      "12\tAntwone Fisher                                               0.5703234321017339\n"
     ]
    }
   ],
   "source": [
    "recommendations_id, sim_scores = get_user_recommendations(0, ch_movie_df, user_ratings_df)\n",
    "\n",
    "print('Recommendations for user:\\n\\nRank\\t{:<60} {}'.format(\"Movie title\", \"Cosine similarity\"))\n",
    "for i, recom_id in enumerate(recommendations_id):\n",
    "    movie = ch_movie_df[ch_movie_df['movieId'] == recom_id]['primaryTitle'].values[0]\n",
    "    print('{}\\t{:<60} {}'.format(i+1, movie, sim_scores[i]))"
   ]
  }
 ],
 "metadata": {
  "kernelspec": {
   "display_name": "Python 3",
   "language": "python",
   "name": "python3"
  },
  "language_info": {
   "codemirror_mode": {
    "name": "ipython",
    "version": 3
   },
   "file_extension": ".py",
   "mimetype": "text/x-python",
   "name": "python",
   "nbconvert_exporter": "python",
   "pygments_lexer": "ipython3",
   "version": "3.8.5"
  }
 },
 "nbformat": 4,
 "nbformat_minor": 4
}
