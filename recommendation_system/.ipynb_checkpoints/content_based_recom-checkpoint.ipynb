{
 "cells": [
  {
   "cell_type": "code",
   "execution_count": 9,
   "metadata": {},
   "outputs": [],
   "source": [
    "import pandas as pd\n",
    "import numpy as np\n",
    "from operator import itemgetter\n",
    "import json"
   ]
  },
  {
   "cell_type": "markdown",
   "metadata": {},
   "source": [
    "##### For this code to work, a file called ```user_ratings_.csv``` must exist containing the following columns: ```userId, movieId, enjoyRating, meaningRating``` plus a column per character strength with names as in the movie dataset ```final_movie_dataset.csv```"
   ]
  },
  {
   "cell_type": "code",
   "execution_count": 32,
   "metadata": {},
   "outputs": [],
   "source": [
    "movie_json = \"\"\"[{\"appreciationBeautyExcellence\":0,\"averageEnjoyment\":2.85,\"averageMeaning\":3.0,\"bravery\":0,\"creativity\":0,\"curiosity\":0,\"fairness\":0,\"forgiveness\":0,\"gratitude\":0,\"honesty\":0,\"hope\":0,\"humility\":0,\"humor\":0,\"judgement\":0,\"kindness\":0,\"leadership\":0,\"love\":0,\"loveOfLearning\":0,\"movieId\":\"tt0002199\",\"perseverance\":0,\"perspective\":0,\"prudence\":0,\"selfRegulation\":0,\"socialIntelligence\":0,\"spirituality\":1,\"teamwork\":0,\"votesEnjoyment\":506,\"votesMeaning\":1,\"zest\":0},{\"appreciationBeautyExcellence\":0,\"averageEnjoyment\":4.15,\"averageMeaning\":5.0,\"bravery\":0,\"creativity\":0,\"curiosity\":0,\"fairness\":0,\"forgiveness\":0,\"gratitude\":0,\"honesty\":0,\"hope\":0,\"humility\":0,\"humor\":0,\"judgement\":0,\"kindness\":0,\"leadership\":0,\"love\":1,\"loveOfLearning\":0,\"movieId\":\"tt0012349\",\"perseverance\":0,\"perspective\":0,\"prudence\":0,\"selfRegulation\":0,\"socialIntelligence\":0,\"spirituality\":0,\"teamwork\":0,\"votesEnjoyment\":114451,\"votesMeaning\":1,\"zest\":0},{\"appreciationBeautyExcellence\":0,\"averageEnjoyment\":4.25,\"averageMeaning\":5.0,\"bravery\":0,\"creativity\":0,\"curiosity\":0,\"fairness\":0,\"forgiveness\":0,\"gratitude\":0,\"honesty\":0,\"hope\":0,\"humility\":0,\"humor\":0,\"judgement\":0,\"kindness\":0,\"leadership\":0,\"love\":1,\"loveOfLearning\":0,\"movieId\":\"tt0021749\",\"perseverance\":0,\"perspective\":0,\"prudence\":0,\"selfRegulation\":0,\"socialIntelligence\":0,\"spirituality\":0,\"teamwork\":0,\"votesEnjoyment\":169029,\"votesMeaning\":1,\"zest\":0},{\"appreciationBeautyExcellence\":0,\"averageEnjoyment\":3.45,\"averageMeaning\":3.0,\"bravery\":0,\"creativity\":0,\"curiosity\":0,\"fairness\":0,\"forgiveness\":0,\"gratitude\":0,\"honesty\":0,\"hope\":0,\"humility\":0,\"humor\":0,\"judgement\":0,\"kindness\":0,\"leadership\":0,\"love\":0,\"loveOfLearning\":0,\"movieId\":\"tt0022111\",\"perseverance\":0,\"perspective\":0,\"prudence\":0,\"selfRegulation\":1,\"socialIntelligence\":0,\"spirituality\":0,\"teamwork\":0,\"votesEnjoyment\":2738,\"votesMeaning\":1,\"zest\":0},{\"appreciationBeautyExcellence\":0,\"averageEnjoyment\":3.95,\"averageMeaning\":4.0,\"bravery\":0,\"creativity\":0,\"curiosity\":0,\"fairness\":0,\"forgiveness\":0,\"gratitude\":0,\"honesty\":0,\"hope\":0,\"humility\":0,\"humor\":0,\"judgement\":0,\"kindness\":0,\"leadership\":0,\"love\":0,\"loveOfLearning\":0,\"movieId\":\"tt0027996\",\"perseverance\":0,\"perspective\":0,\"prudence\":0,\"selfRegulation\":0,\"socialIntelligence\":0,\"spirituality\":0,\"teamwork\":1,\"votesEnjoyment\":19835,\"votesMeaning\":1,\"zest\":0},{\"appreciationBeautyExcellence\":0,\"averageEnjoyment\":4.0,\"averageMeaning\":4.0,\"bravery\":0,\"creativity\":0,\"curiosity\":0,\"fairness\":0,\"forgiveness\":0,\"gratitude\":0,\"honesty\":1,\"hope\":0,\"humility\":0,\"humor\":0,\"judgement\":0,\"kindness\":0,\"leadership\":0,\"love\":0,\"loveOfLearning\":0,\"movieId\":\"tt0028691\",\"perseverance\":0,\"perspective\":0,\"prudence\":0,\"selfRegulation\":0,\"socialIntelligence\":0,\"spirituality\":0,\"teamwork\":0,\"votesEnjoyment\":8825,\"votesMeaning\":1,\"zest\":0},{\"appreciationBeautyExcellence\":0,\"averageEnjoyment\":3.95,\"averageMeaning\":4.0,\"bravery\":0,\"creativity\":0,\"curiosity\":0,\"fairness\":1,\"forgiveness\":0,\"gratitude\":0,\"honesty\":0,\"hope\":0,\"humility\":0,\"humor\":0,\"judgement\":0,\"kindness\":0,\"leadership\":0,\"love\":0,\"loveOfLearning\":0,\"movieId\":\"tt0029843\",\"perseverance\":0,\"perspective\":0,\"prudence\":0,\"selfRegulation\":0,\"socialIntelligence\":0,\"spirituality\":0,\"teamwork\":0,\"votesEnjoyment\":47351,\"votesMeaning\":1,\"zest\":0},{\"appreciationBeautyExcellence\":0,\"averageEnjoyment\":3.65,\"averageMeaning\":4.0,\"bravery\":0,\"creativity\":0,\"curiosity\":0,\"fairness\":0,\"forgiveness\":0,\"gratitude\":0,\"honesty\":0,\"hope\":1,\"humility\":0,\"humor\":0,\"judgement\":0,\"kindness\":0,\"leadership\":0,\"love\":0,\"loveOfLearning\":0,\"movieId\":\"tt0029942\",\"perseverance\":0,\"perspective\":0,\"prudence\":0,\"selfRegulation\":0,\"socialIntelligence\":0,\"spirituality\":0,\"teamwork\":0,\"votesEnjoyment\":5184,\"votesMeaning\":1,\"zest\":0}]\"\"\""
   ]
  },
  {
   "cell_type": "code",
   "execution_count": 33,
   "metadata": {},
   "outputs": [],
   "source": [
    "user0_json = \"\"\"[{\"appreciationBeautyExcellence\":1,\"bravery\":0,\"creativity\":0,\"curiosity\":1,\"enjoymentRating\":5.0,\"fairness\":0,\"forgiveness\":0,\"gratitude\":0,\"honesty\":0,\"hope\":0,\"humility\":0,\"humor\":0,\"judgement\":1,\"kindness\":1,\"leadership\":0,\"love\":0,\"loveOfLearning\":0,\"meaningRating\":5.0,\"movieId\":\"tt0758758\",\"perseverance\":0,\"perspective\":1,\"prudence\":0,\"ratingId\":10,\"selfRegulation\":0,\"socialIntelligence\":0,\"spirituality\":0,\"teamwork\":0,\"userId\":0,\"zest\":0},{\"appreciationBeautyExcellence\":0,\"bravery\":0,\"creativity\":0,\"curiosity\":0,\"enjoymentRating\":5.0,\"fairness\":0,\"forgiveness\":0,\"gratitude\":0,\"honesty\":0,\"hope\":0,\"humility\":0,\"humor\":0,\"judgement\":1,\"kindness\":0,\"leadership\":0,\"love\":0,\"loveOfLearning\":0,\"meaningRating\":3.0,\"movieId\":\"tt0485947\",\"perseverance\":0,\"perspective\":1,\"prudence\":0,\"ratingId\":11,\"selfRegulation\":0,\"socialIntelligence\":1,\"spirituality\":1,\"teamwork\":0,\"userId\":0,\"zest\":0},{\"appreciationBeautyExcellence\":0,\"bravery\":0,\"creativity\":0,\"curiosity\":0,\"enjoymentRating\":5.0,\"fairness\":0,\"forgiveness\":1,\"gratitude\":0,\"honesty\":0,\"hope\":1,\"humility\":0,\"humor\":0,\"judgement\":0,\"kindness\":0,\"leadership\":0,\"love\":0,\"loveOfLearning\":0,\"meaningRating\":4.0,\"movieId\":\"tt0180093\",\"perseverance\":0,\"perspective\":0,\"prudence\":0,\"ratingId\":12,\"selfRegulation\":1,\"socialIntelligence\":0,\"spirituality\":0,\"teamwork\":0,\"userId\":0,\"zest\":0},{\"appreciationBeautyExcellence\":0,\"bravery\":1,\"creativity\":0,\"curiosity\":0,\"enjoymentRating\":5.0,\"fairness\":0,\"forgiveness\":0,\"gratitude\":0,\"honesty\":0,\"hope\":0,\"humility\":0,\"humor\":0,\"judgement\":1,\"kindness\":0,\"leadership\":0,\"love\":0,\"loveOfLearning\":0,\"meaningRating\":4.5,\"movieId\":\"tt0810819\",\"perseverance\":1,\"perspective\":1,\"prudence\":0,\"ratingId\":13,\"selfRegulation\":0,\"socialIntelligence\":0,\"spirituality\":0,\"teamwork\":0,\"userId\":0,\"zest\":0},{\"appreciationBeautyExcellence\":1,\"bravery\":0,\"creativity\":0,\"curiosity\":0,\"enjoymentRating\":5.0,\"fairness\":0,\"forgiveness\":0,\"gratitude\":0,\"honesty\":0,\"hope\":0,\"humility\":0,\"humor\":0,\"judgement\":0,\"kindness\":0,\"leadership\":0,\"love\":1,\"loveOfLearning\":0,\"meaningRating\":5.0,\"movieId\":\"tt4034354\",\"perseverance\":0,\"perspective\":1,\"prudence\":0,\"ratingId\":14,\"selfRegulation\":0,\"socialIntelligence\":0,\"spirituality\":0,\"teamwork\":0,\"userId\":0,\"zest\":0}]\"\"\""
   ]
  },
  {
   "cell_type": "markdown",
   "metadata": {},
   "source": [
    "movie_df = pd.read_csv('./movie_ratings.csv', low_memory=False)\n",
    "user_ratings_df = pd.read_csv('./user_ratings.csv', delimiter=';', low_memory=False)"
   ]
  },
  {
   "cell_type": "code",
   "execution_count": 51,
   "metadata": {},
   "outputs": [],
   "source": [
    "movie_ratings_df = pd.DataFrame.from_dict(json.loads(movie_json))\n",
    "first_cols = ['averageMeaning', 'votesMeaning', 'averageEnjoyment', 'votesEnjoyment', 'movieId']\n",
    "cols = list(movie_ratings_df.columns)\n",
    "for col in first_cols:\n",
    "    cols.insert(0, cols.pop(cols.index(col)))\n",
    "    \n",
    "movie_ratings_df = movie_ratings_df[cols]"
   ]
  },
  {
   "cell_type": "code",
   "execution_count": 96,
   "metadata": {},
   "outputs": [],
   "source": [
    "def json_to_df(movie_json, user_json):\n",
    "    \n",
    "    movie_ratings_df = pd.DataFrame.from_dict(json.loads(movie_json))\n",
    "    first_cols = ['averageMeaning', 'votesMeaning', 'averageEnjoyment', 'votesEnjoyment', 'movieId']\n",
    "    cols = list(movie_ratings_df.columns)\n",
    "    for col in first_cols:\n",
    "        cols.insert(0, cols.pop(cols.index(col)))\n",
    "\n",
    "    movie_ratings_df = movie_ratings_df[cols]\n",
    "    \n",
    "    user_ratings_df = pd.DataFrame.from_dict(json.loads(user_json))\n",
    "    first_cols = ['meaningRating', 'enjoymentRating', 'movieId', 'userId', 'ratingId']\n",
    "    cols = list(user_ratings_df.columns)\n",
    "    for col in first_cols:\n",
    "        cols.insert(0, cols.pop(cols.index(col)))\n",
    "\n",
    "    user_ratings_df = user_ratings_df[cols]\n",
    "    \n",
    "    return movie_ratings_df, user_ratings_df"
   ]
  },
  {
   "cell_type": "code",
   "execution_count": 76,
   "metadata": {},
   "outputs": [],
   "source": [
    "user_ratings_df = pd.DataFrame.from_dict(json.loads(user0_json))\n",
    "first_cols = ['meaningRating', 'enjoymentRating', 'movieId', 'userId', 'ratingId']\n",
    "cols = list(user_ratings_df.columns)\n",
    "for col in first_cols:\n",
    "    cols.insert(0, cols.pop(cols.index(col)))\n",
    "    \n",
    "user_ratings_df = user_ratings_df[cols]"
   ]
  },
  {
   "cell_type": "code",
   "execution_count": 77,
   "metadata": {},
   "outputs": [
    {
     "data": {
      "text/plain": [
       "Index(['ratingId', 'userId', 'movieId', 'enjoymentRating', 'meaningRating',\n",
       "       'appreciationBeautyExcellence', 'bravery', 'creativity', 'curiosity',\n",
       "       'fairness', 'forgiveness', 'gratitude', 'honesty', 'hope', 'humility',\n",
       "       'humor', 'judgement', 'kindness', 'leadership', 'love',\n",
       "       'loveOfLearning', 'perseverance', 'perspective', 'prudence',\n",
       "       'selfRegulation', 'socialIntelligence', 'spirituality', 'teamwork',\n",
       "       'zest'],\n",
       "      dtype='object')"
      ]
     },
     "execution_count": 77,
     "metadata": {},
     "output_type": "execute_result"
    }
   ],
   "source": [
    "user_ratings_df.columns"
   ]
  },
  {
   "cell_type": "markdown",
   "metadata": {},
   "source": [
    "has_ch_strengths = movie_df['averageMeaningRating'] > 0.0\n",
    "ch_movie_df = movie_df[has_ch_strengths]"
   ]
  },
  {
   "cell_type": "markdown",
   "metadata": {},
   "source": [
    "##### The dataframe ```ch_movie_df``` contains only movies which have character strengths data. The recommendations can only be done for those."
   ]
  },
  {
   "cell_type": "code",
   "execution_count": 78,
   "metadata": {},
   "outputs": [],
   "source": [
    "def cosine_similarity(a, b): \n",
    "    return np.dot(a,b)/(np.linalg.norm(a)*np.linalg.norm(b))"
   ]
  },
  {
   "cell_type": "code",
   "execution_count": 79,
   "metadata": {},
   "outputs": [],
   "source": [
    "def get_user_score(user_ratings_df):\n",
    "    '''\n",
    "    Calculates the user profile's score based on character strengths and\n",
    "    meaningful score. Only movies with meaningful score > 3.0 are taken\n",
    "    into account. \n",
    "    '''\n",
    "    MEANING_RATING_COL = user_ratings_df.columns.tolist().index('meaningRating')\n",
    "    \n",
    "    relevant_df = user_ratings_df[user_ratings_df['meaningRating'] >= 3.0]\n",
    "    meaning_scores = relevant_df.iloc[:, MEANING_RATING_COL].values\n",
    "    \n",
    "    # We want every value of meaning_scores to multiply a whole row of character strengths.\n",
    "    # This is done by using a concept called \"broadcasting\"\n",
    "    ch_strs = relevant_df.iloc[:, np.arange(MEANING_RATING_COL+1, len(relevant_df.columns))] * meaning_scores[:, np.newaxis]\n",
    "    \n",
    "    # we sum every character strength weighted score and we normalize it\n",
    "    score = ch_strs.sum()/ch_strs.sum().sum()\n",
    "        \n",
    "    return score"
   ]
  },
  {
   "cell_type": "code",
   "execution_count": 80,
   "metadata": {},
   "outputs": [],
   "source": [
    "def get_movie_score(movie_df, movie_id, max_meaningful_votes, general_score):\n",
    "    '''\n",
    "    Calculate a single movie's score using its character strengths and \n",
    "    meaningful score. As the final score is calculated using a bayesian\n",
    "    estimate, weight and a-priori score parameters are used.\n",
    "    '''\n",
    "    \n",
    "    FIRST_CH_STR_COL = movie_df.columns.tolist().index('appreciationBeautyExcellence')\n",
    "    \n",
    "    relevant_df = movie_df[movie_df['movieId'] == movie_id]\n",
    "\n",
    "    meaningful_scores = relevant_df['averageMeaning'].values[0]\n",
    "    weight = relevant_df['votesMeaning'].values[0]/max_meaningful_votes\n",
    "\n",
    "    ch_strs = relevant_df.iloc[:, np.arange(FIRST_CH_STR_COL, len(relevant_df.columns))] * meaningful_scores\n",
    "    movie_score = ch_strs.sum() / ch_strs.sum().sum()\n",
    "    \n",
    "    return weight*movie_score + (1-weight)*general_score"
   ]
  },
  {
   "cell_type": "code",
   "execution_count": 97,
   "metadata": {},
   "outputs": [],
   "source": [
    "def get_user_recommendations(movie_json, user_json):\n",
    "    '''\n",
    "    Returns a user's ranked recommendations by calculating the cosine\n",
    "    similarity of its profile with every movie in the db.\n",
    "    '''\n",
    "    \n",
    "    # first get the dataframes\n",
    "    movie_ratings_df, user_ratings_df = json_to_df(movie_json, user_json)\n",
    "    \n",
    "    FIRST_CH_STR_COL = movie_ratings_df.columns.tolist().index('appreciationBeautyExcellence')\n",
    "    \n",
    "    user_score = get_user_score(user_ratings_df)\n",
    "    \n",
    "    # df with only the character strengths\n",
    "    all_ch_strs = movie_ratings_df.iloc[:, np.arange(FIRST_CH_STR_COL, len(movie_ratings_df.columns))] * np.array(movie_ratings_df['averageMeaning'])[:, np.newaxis]\n",
    "    # normalize very row (every movie)\n",
    "    all_ch_strs = all_ch_strs.div(all_ch_strs.sum(axis=1), axis=0)\n",
    "    \n",
    "    # calculate the general score by averaging the scores of every movie\n",
    "    general_score = all_ch_strs.mean(axis=0)\n",
    "    \n",
    "    max_meaningful_votes = movie_ratings_df['votesMeaning'].max()\n",
    "\n",
    "    movie_cosine_sim = {}\n",
    "\n",
    "    # calculate the cosine similarity between scores of every movie and the user's.\n",
    "    for movie in movie_ratings_df['movieId']:\n",
    "        movie_cosine_sim[movie] = cosine_similarity(user_score, get_movie_score(movie_ratings_df, movie, max_meaningful_votes, general_score))\n",
    "\n",
    "    # sort the movies by similarity score (higher means better)\n",
    "    sorted_similarities = {k: v for k, v in sorted(movie_cosine_sim.items(), key=itemgetter(1), reverse=True)}\n",
    "    \n",
    "    # this prints the user score together with the score of the top ranked movie\n",
    "    #print(np.array(user_score), np.array(get_movie_score(ch_movie_df, list(sorted_similarities.keys())[0], max_meaningful_votes, general_score)))\n",
    "    \n",
    "    return list(sorted_similarities.keys())[:12], list(sorted_similarities.values())[:12]"
   ]
  },
  {
   "cell_type": "code",
   "execution_count": 102,
   "metadata": {},
   "outputs": [
    {
     "name": "stdout",
     "output_type": "stream",
     "text": [
      "Recommendations for user:\n",
      "\n",
      "Rank\tMovie                                                        Cosine similarity\n",
      "1\ttt0012349                                                    0.1833088937766916\n",
      "2\ttt0021749                                                    0.1833088937766916\n",
      "3\ttt0022111                                                    0.14664711502135327\n",
      "4\ttt0029942                                                    0.14664711502135327\n",
      "5\ttt0002199                                                    0.10998533626601495\n",
      "6\ttt0027996                                                    0.0\n",
      "7\ttt0028691                                                    0.0\n",
      "8\ttt0029843                                                    0.0\n"
     ]
    }
   ],
   "source": [
    "recommendations_id, sim_scores = get_user_recommendations(movie_json, user0_json)\n",
    "\n",
    "print('Recommendations for user:\\n\\nRank\\t{:<60} {}'.format(\"Movie \", \"Cosine similarity\"))\n",
    "for i, recom_id in enumerate(recommendations_id):\n",
    "    movie = movie_ratings_df[movie_ratings_df['movieId'] == recom_id]['movieId'].values[0]\n",
    "    print('{}\\t{:<60} {}'.format(i+1, movie, sim_scores[i]))"
   ]
  },
  {
   "cell_type": "code",
   "execution_count": null,
   "metadata": {},
   "outputs": [],
   "source": []
  }
 ],
 "metadata": {
  "kernelspec": {
   "display_name": "Python 3",
   "language": "python",
   "name": "python3"
  },
  "language_info": {
   "codemirror_mode": {
    "name": "ipython",
    "version": 3
   },
   "file_extension": ".py",
   "mimetype": "text/x-python",
   "name": "python",
   "nbconvert_exporter": "python",
   "pygments_lexer": "ipython3",
   "version": "3.8.5"
  }
 },
 "nbformat": 4,
 "nbformat_minor": 4
}
