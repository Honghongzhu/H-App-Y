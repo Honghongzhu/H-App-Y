{
 "cells": [
  {
   "cell_type": "code",
   "execution_count": 76,
   "metadata": {},
   "outputs": [],
   "source": [
    "import slate3k as slate\n",
    "import pandas as pd\n",
    "import re\n",
    "import numpy as np\n",
    "from tika import parser"
   ]
  },
  {
   "cell_type": "markdown",
   "metadata": {},
   "source": [
    "##### ```tika``` uses a java pipeline and may require access to firewall, but it's the best parser I've found."
   ]
  },
  {
   "cell_type": "code",
   "execution_count": 2,
   "metadata": {},
   "outputs": [
    {
     "name": "stderr",
     "output_type": "stream",
     "text": [
      "2021-04-08 08:36:34,879 [MainThread  ] [WARNI]  Failed to see startup log message; retrying...\n"
     ]
    }
   ],
   "source": [
    "raw = parser.from_file('Films_Illustrating_Character_Strengths_and_Virtues.pdf')"
   ]
  },
  {
   "cell_type": "markdown",
   "metadata": {},
   "source": [
    "with open('Films_Illustrating_Character_Strengths_and_Virtues.pdf', 'rb') as f:\n",
    "    extracted_text = slate.PDF(f)"
   ]
  },
  {
   "cell_type": "code",
   "execution_count": 3,
   "metadata": {},
   "outputs": [],
   "source": [
    "header1 = \"Positive Psychology at the Movies\"\n",
    "header2 = \"Appendices\"\n",
    "header3 = \"From: Niemiec, R.M., & Wedding, D. : Using Films to Build Virtues and Character Strengths. © 2008 Hogrefe & Huber Publishers (http://www.hogrefe.com/)\"\n",
    "\n",
    "char_strengths = ['WISDOM: Creativity (originality, ingenuity)',\n",
    "                  ' WISDOM: Curiosity  (interest, novelty-seeking,  openness to experience)',\n",
    "                  ' WISDOM: Open-mindedness (judgment, critical thinking)',\n",
    "                  ' WISDOM: Love of Learning',\n",
    "                  '  WISDOM: Perspective  (wisdom)',\n",
    "                  ' COURAGE: Bravery (valor)',\n",
    "                  ' COURAGE: Integrity  (authenticity, honesty)',\n",
    "                  ' COURAGE: Vitality  (zest, enthusiasm, vigor, energy)',\n",
    "                  ' COURAGE: Persistence  (perseverance, industriousness)',\n",
    "                  ' HUMANITY: Love',\n",
    "                  'HUMANITY: Kindness  (generosity, nurturance, care, compassion, altruistic love,  niceness)',\n",
    "                  ' HUMANITY: Social  Intelligence  (emotional, personal intelligence)',\n",
    "                  ' JUSTICE: Citizenship  (social responsibility, loyalty, teamwork)',\n",
    "                  ' JUSTICE: Fairness',\n",
    "                  'JUSTICE: Leadership ',\n",
    "                  ' TEMPERANCE: Forgiveness and Mercy',\n",
    "                  ' TEMPERANCE: Humility and Modesty',\n",
    "                  ' TEMPERANCE: Prudence',\n",
    "                  ' TEMPERANCE: Self-Regulation  (self-control)',\n",
    "                  ' TRANSCENDENCE:  Appreciation of Beauty and Excellence  (awe, wonder, elevation)',\n",
    "                  ' TRANSCENDENCE: Grati-tude',\n",
    "                  ' TRANSCENDENCE: Hope  (optimism, future mindedness, future orientation)',\n",
    "                  ' TRANSCENDENCE: Humor (playfulness)',\n",
    "                  '   TRANSCENDENCE:  Spirituality  (religiousness, faith, purpose, meaning)'\n",
    "                  ]"
   ]
  },
  {
   "cell_type": "code",
   "execution_count": 4,
   "metadata": {},
   "outputs": [],
   "source": [
    "def find(string, substring):\n",
    "    return [m.start() for m in re.finditer(substring, string)]"
   ]
  },
  {
   "cell_type": "code",
   "execution_count": 5,
   "metadata": {},
   "outputs": [],
   "source": [
    "content = raw['content']\n",
    "content = content[content.find(\"WISDOM\"):]\n",
    "content = content[:content.find(\"View publication\")]\n",
    "content = content.replace(\"\\n\", \"\")\n",
    "\n",
    "content = content.replace(header1, \"\")\n",
    "content = content.replace(header2, \"\")\n",
    "content = content.replace(header3, \"\")\n",
    "content = content.strip()"
   ]
  },
  {
   "cell_type": "code",
   "execution_count": 6,
   "metadata": {},
   "outputs": [],
   "source": [
    "lines = []\n",
    "\n",
    "all_indices = find(content, 'Ψ ')\n",
    "\n",
    "for i, index in enumerate(all_indices):\n",
    "    \n",
    "    if i == 0:\n",
    "        lines.append(content[0:index+1])\n",
    "    else:\n",
    "        lines.append(content[all_indices[i-1]+2:index+1])"
   ]
  },
  {
   "cell_type": "code",
   "execution_count": 139,
   "metadata": {},
   "outputs": [],
   "source": [
    "csv_dict = {}\n",
    "count_score = []\n",
    "char_found = -1\n",
    "\n",
    "for line in lines:\n",
    "     \n",
    "    previous_char = char_found\n",
    "  \n",
    "    for strength in char_strengths:\n",
    "        # if any char strength is found in the line\n",
    "        if line.find(strength.strip()) != -1:\n",
    "            current_strength = strength.strip()\n",
    "            char_found += 1\n",
    "\n",
    "    if char_found != previous_char:\n",
    "    \n",
    "        clear_line = line.replace(current_strength, \"\").replace('Ψ', \"\").strip()\n",
    "        \n",
    "        # if there is a movie left\n",
    "        if clear_line != \"\":\n",
    "            csv_dict[clear_line] = current_strength.strip()\n",
    "            count_score.append([float(line.count('Ψ'))])\n",
    "\n",
    "    else:\n",
    "\n",
    "        # if the movie already has a char strength:\n",
    "        if line.replace('Ψ', \"\").strip() in list(csv_dict.keys()):\n",
    "            count_score[list(csv_dict.keys()).index(line.replace('Ψ', \"\").strip())].append(float(line.count('Ψ')))\n",
    "            csv_dict[line.replace('Ψ', \"\").strip()] += ';' + current_strength.strip()\n",
    "        else:\n",
    "            count_score.append([float(line.count('Ψ'))])\n",
    "            csv_dict[line.replace('Ψ', \"\").strip()] = current_strength.strip()"
   ]
  },
  {
   "cell_type": "code",
   "execution_count": 147,
   "metadata": {},
   "outputs": [],
   "source": [
    "dataframe_dict = {}\n",
    "df_columns = [i.strip() for i in char_strengths]\n",
    "\n",
    "for i, key in enumerate(csv_dict.keys()):\n",
    "\n",
    "    binary_list = []\n",
    "    \n",
    "    binary_list.append(np.array(count_score[i]).mean())\n",
    "    \n",
    "    for strength in df_columns:\n",
    "        if strength in csv_dict[key].split(';'):\n",
    "            binary_list.append('1')\n",
    "        else:\n",
    "            binary_list.append('0')\n",
    "        \n",
    "    dataframe_dict[key.replace('Ψ', \"\").strip()] = binary_list"
   ]
  },
  {
   "cell_type": "code",
   "execution_count": 149,
   "metadata": {},
   "outputs": [],
   "source": [
    "movie_df = pd.DataFrame.from_dict(dataframe_dict, orient='index', columns=df_columns.insert(0, 'Meaningfulness'))"
   ]
  },
  {
   "cell_type": "code",
   "execution_count": 152,
   "metadata": {},
   "outputs": [],
   "source": [
    "renames = ['Meaningfulness',\n",
    "           'Creativity (Wisdom)',\n",
    "           'Curiosity (Wisdom)',\n",
    "           'Open-mindedness (Wisdom)',\n",
    "           'Love of learning (Wisdom)',\n",
    "           'Perspective (Wisdom)',\n",
    "           'Bravery (Courage)',\n",
    "           'Integrity (Courage)',\n",
    "           'Vitality (Courage)',\n",
    "           'Persistence (Courage)',\n",
    "           'Love (Humanity)',\n",
    "           'Kindness (Humanity)',\n",
    "           'Social Intelligence (Humanity)',\n",
    "           'Citizenship (Justice)',\n",
    "           'Fairness (Justice)',\n",
    "           'Leadership (Justice)',\n",
    "           'Forgiveness and mercy (Temperance)',\n",
    "           'Humility and modesty (Temperance)',\n",
    "           'Prudence (Temperance)',\n",
    "           'Self-regulation (Temperance)',\n",
    "           'Appreciation of Beauty and Excellence (Transcendence)',\n",
    "           'Gratitude (Transcendence)',\n",
    "           'Hope (Transcendence)',\n",
    "           'Humor (Transcendence)',\n",
    "           'Spirituality (Transcendence)'\n",
    "           ]\n",
    "\n",
    "renaming_dict = {}\n",
    "\n",
    "for i, col in enumerate(list(movie_df.columns)):\n",
    "    renaming_dict[col] = renames[i]\n",
    "\n",
    "movie_df.rename(columns = renaming_dict, inplace = True) \n",
    "\n",
    "movie_df['movie_id'] = range(0, len(movie_df))\n",
    "\n",
    "movie_df.to_csv('paper_dataset.csv')"
   ]
  }
 ],
 "metadata": {
  "kernelspec": {
   "display_name": "Python 3",
   "language": "python",
   "name": "python3"
  },
  "language_info": {
   "codemirror_mode": {
    "name": "ipython",
    "version": 3
   },
   "file_extension": ".py",
   "mimetype": "text/x-python",
   "name": "python",
   "nbconvert_exporter": "python",
   "pygments_lexer": "ipython3",
   "version": "3.8.5"
  }
 },
 "nbformat": 4,
 "nbformat_minor": 4
}
