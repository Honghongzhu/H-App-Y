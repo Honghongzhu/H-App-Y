{
 "cells": [
  {
   "cell_type": "code",
   "execution_count": 11,
   "metadata": {},
   "outputs": [
    {
     "name": "stderr",
     "output_type": "stream",
     "text": [
      "C:\\Users\\Javi\\anaconda3\\lib\\site-packages\\tqdm\\std.py:697: FutureWarning: The Panel class is removed from pandas. Accessing it from the top-level namespace will also be removed in the next version\n",
      "  from pandas import Panel\n"
     ]
    }
   ],
   "source": [
    "import pandas as pd\n",
    "from tqdm import tqdm\n",
    "import numpy as np\n",
    "import math\n",
    "import requests\n",
    "tqdm.pandas()"
   ]
  },
  {
   "cell_type": "code",
   "execution_count": 12,
   "metadata": {},
   "outputs": [],
   "source": [
    "paper_df = pd.read_csv('./paper_dataset.csv')\n",
    "movie_df = pd.read_csv('./preprocessed_movie_dataset.csv')"
   ]
  },
  {
   "cell_type": "code",
   "execution_count": 13,
   "metadata": {},
   "outputs": [],
   "source": [
    "char_str_cols = paper_df.columns.to_list()[1:-1]\n",
    "\n",
    "movie_df['Meaningfulness'] = 0.0\n",
    "\n",
    "for col in char_str_cols[1:]:\n",
    "    \n",
    "    movie_df[col] = 0"
   ]
  },
  {
   "cell_type": "code",
   "execution_count": 23,
   "metadata": {},
   "outputs": [],
   "source": [
    "movie_list = movie_df.iloc[:, 2].tolist()\n",
    "years = movie_df.iloc[:, 4].tolist()\n",
    "orig_movie_list = movie_df.iloc[:, 3].tolist()\n",
    "\n",
    "for i, movie in enumerate(movie_list):\n",
    "    movie_list[i] = movie.lower().strip().replace(' ', '')\n",
    "\n",
    "for i, movie in enumerate(orig_movie_list):\n",
    "    orig_movie_list[i] = movie.lower().strip().replace(' ', '')"
   ]
  },
  {
   "cell_type": "markdown",
   "metadata": {},
   "source": [
    "##### It's impossible to match all of the movie due to the different formatting. If there isn't a perfect match, there is no point in adding the character strength and start with wrong scores, therefore the missing matches must be added manually"
   ]
  },
  {
   "cell_type": "code",
   "execution_count": 29,
   "metadata": {},
   "outputs": [
    {
     "name": "stdout",
     "output_type": "stream",
     "text": [
      "0\n"
     ]
    }
   ],
   "source": [
    "movie_d = \"kk (2000)\"\n",
    "c = movie_d.split('(')[0].strip().lower().strip()\n",
    "year = movie_d[movie_d.find('(')+1:movie_d.find(')')]\n",
    "\n",
    "indices = [i for i, x in enumerate(movie_list) if x == c]\n",
    "\n",
    "for idx in indices:\n",
    "    if years[idx] == year:\n",
    "        print('yes')\n",
    "    else:\n",
    "        print('no')"
   ]
  },
  {
   "cell_type": "code",
   "execution_count": 34,
   "metadata": {},
   "outputs": [
    {
     "name": "stderr",
     "output_type": "stream",
     "text": [
      "100%|████████████████████████████████████████████████████████████████████████████████| 855/855 [01:00<00:00, 14.17it/s]\n"
     ]
    }
   ],
   "source": [
    "unmatched_movies = []\n",
    "movie_columns = movie_df.columns.to_list()\n",
    "\n",
    "for idx, row in tqdm(paper_df.iterrows(), total=paper_df.shape[0]):\n",
    "    \n",
    "    current_movie = row['Unnamed: 0'].split('(')[0].strip().lower().replace(' ', '')\n",
    "    year = row['Unnamed: 0'][row['Unnamed: 0'].find(\"(\")+1:row['Unnamed: 0'].find(\")\")]\n",
    "    \n",
    "    # find all ocurrences of the movie title in the list (there can be several movies with same name)\n",
    "    indices = [i for i, movie in enumerate(movie_list) if movie == current_movie]\n",
    "\n",
    "    # if not in the movie_list, check for the original name list\n",
    "    if len(indices) == 0:\n",
    "        \n",
    "        indices = [i for i, movie in enumerate(orig_movie_list) if movie == current_movie]\n",
    "        \n",
    "        if len(indices) == 0:\n",
    "            \n",
    "            #print(f\"Movie {current_movie} ({year}) was not found\")\n",
    "            to_print = []\n",
    "            \n",
    "            for col in char_str_cols[1:]:\n",
    "                if row[col] > 0:\n",
    "                    to_print.append(col)\n",
    "                    \n",
    "            unmatched_movies.append((row['Unnamed: 0'], ','.join(to_print)))    \n",
    "            continue\n",
    "        \n",
    "    # if we get to this point, the movie was found somewhere\n",
    "        \n",
    "    for idx in indices:\n",
    "        if years[idx] == year:\n",
    "            true_idx = idx\n",
    "            break\n",
    "\n",
    "    # at this point we've found the true match of the movie\n",
    "    for col in char_str_cols:\n",
    "        movie_df.loc[true_idx, col] = row[col]"
   ]
  },
  {
   "cell_type": "markdown",
   "metadata": {},
   "source": [
    "movie_df.to_csv('edited_movie_dataset.csv', index=False)"
   ]
  },
  {
   "cell_type": "code",
   "execution_count": 35,
   "metadata": {},
   "outputs": [],
   "source": [
    "with open(\"unmatched_movies.txt\", \"w\", encoding=\"utf-8\") as output:\n",
    "    for movie in unmatched_movies:\n",
    "        output.write(str(movie) + '\\n')"
   ]
  },
  {
   "cell_type": "markdown",
   "metadata": {},
   "source": [
    "##### Add manually movies"
   ]
  },
  {
   "cell_type": "markdown",
   "metadata": {},
   "source": [
    "#movie_df = pd.read_csv('edited_movie_dataset.csv', low_memory=False)\n",
    "#paper_df = pd.read_csv('./paper_dataset.csv')"
   ]
  },
  {
   "cell_type": "code",
   "execution_count": 36,
   "metadata": {},
   "outputs": [],
   "source": [
    "real_names = {\n",
    "    ' Beautiful Mind, A (2001)': 'tt0268978',\n",
    "    '  Absent-Minded Professor, The (1961)': 'tt0054594',\n",
    "    'Conversation(s) with Other Women (2005)': 'tt0435623',\n",
    "    'Emperor’s Club, The (2002)': 'tt0283530',\n",
    "    ' Hobart Shakespeareans, The (2005)': 'tt0473215',\n",
    "    ' I’m Not There (2007)': 'tt0368794',\n",
    "    ' Mr. Holland’s Opus (1995)': 'tt0113862',\n",
    "    ' Overture, The (2004, Thailand)': 'tt0415046',\n",
    "    ' Pan’s Labyrinth (2006, Mexico)': 'tt0457430',\n",
    "    ' Right Now (2004, France)': 'tt0407342',\n",
    "    ' Terminal, The (2004)': 'tt0362227',\n",
    "    ' Vincent and Theo (1990, Netherlands)': 'tt0100873',\n",
    "    ' Yes Men, The(2003)': 'tt0379593',\n",
    "    ' Adventures of Robinson Crusoe, The (1954)': 'tt0044386',\n",
    "    'I Am Curious (Yellow) (1967, Sweden)': 'tt0061834',\n",
    "    ' Machinist, The (2004, Spain)': 'tt0361862',\n",
    "    ' 265Man Without a Past, The (2002, Finland)': 'tt0311519',\n",
    "    ' Mongolian Ping-Pong (2005, China)': 'tt0461804',\n",
    "    ' Secret Garden, The (1993)': 'tt0108071',\n",
    "    ' Star Maker, The (1995, Italy)': 'tt0114808',\n",
    "    ' Darwin Awards, The(2006)': 'tt0428446',\n",
    "    ' Matrix, The (1999; 2003; 2003)': ['tt0133093', 'tt0234215', 'tt0242653'],\n",
    "    ' Pure Formality, A (1994, France)': 'tt0110917',\n",
    "    ' Chorus, The (2004)': 'tt0372824',\n",
    "    ' Wild Parrots of Telegraph Hill, The (2003)':  'tt0424565',\n",
    "    'Antonia’s Line (1995, Netherlands)': 'tt0112379',\n",
    "    ' Fountain, The (2006)': 'tt0414993',\n",
    "    ' Karate Kid, The (1984)': 'tt0087538',\n",
    "    'Lord of the Rings, The (2001; 2002; 2003)': ['tt0120737', 'tt0167261', 'tt0167260'],\n",
    "    ' Celebration, The (1998, Denmark)': 'tt0154420',\n",
    "    ' Constant Gardener, The (2005,  Germany/U.K.)': 'tt0387131',\n",
    "    ' Diary of Anne Frank, The (1959)': 'tt0052738',\n",
    "    ' Don’t Tell (2005, Italy)': 'tt0417077',\n",
    "    ' Emmanuel’s Gift (2005)': 'tt0447016',\n",
    "    ' Europa, Europa (1991, Germany)': 'tt0099776',\n",
    "    ' Fugitive,The (1993)': 'tt0106977',\n",
    "    ' Good Night, and Good Luck (2005)': 'tt0433383',\n",
    "    ' Ground Truth, The (2006)': 'tt0446345',\n",
    "    ' Kite Runner, The (2007)': 'tt0419887',\n",
    "    ' Man Escaped, A (1956, France)': 'tt0049902',\n",
    "    ' Manchurian Candidate, The (1962; 2004)': 'tt0056218',\n",
    "    ' Schindler’s List (1993)': 'tt0108052',\n",
    "    ' Silence of the Lambs (1991)': 'tt0102926',\n",
    "    ' Sound of Music, The (1965)': 'tt0059742',\n",
    "    ' 40-Year-Old Virgin, The (2005)': 'tt0405422',\n",
    "    ' All the President’s Men (1976)': 'tt0074119',\n",
    "    ' Captain Courageous (1937)': 'tt0028691',\n",
    "    ' Civil Action, A (1998)': 'tt0120633',\n",
    "    ' Contender,The (2000)': 'tt0208874', \n",
    "    ' Dirty, Filthy Love (2004, U.K.)': 'tt0411291',\n",
    "    ' Erin Brokovich (2000)': 'tt0195685',\n",
    "    ' Few Good Men, A (1992)': 'tt0104257',\n",
    "    ' Legend of Bagger Vance, The (2000)': 'tt0146984',\n",
    "    ' Lives of Others, The (2006)': 'tt0405094',\n",
    "    ' Papillion (1973)': 'tt0070511',\n",
    "    ' Piano, The (1993, Australia)': 'tt0107822',\n",
    "    ' 267Prime (2005)': 'tt0387514',\n",
    "    ' Right Stuff, The (1983)': 'tt0086197',\n",
    "    ' Verdict, The (1982)': 'tt0084855',\n",
    "    ' Willy Wonka and the Chocolate Factory (1971)': 'tt0067992',\n",
    "    '400 Blows, The (1959, France)': 'tt0053198',\n",
    "    ' Long Life, Happiness and Prosperity (2002, Canada)': 'tt0323103',\n",
    "    ' Man Who Wasn’t There, The (2001)': 'tt0243133',\n",
    "    ' One Flew Over the Cuckoo’s Nest (1975)': 'tt0073486',\n",
    "    ' Singin’ in the Rain (1952)': 'tt0045152',\n",
    "    ' What’s Love Got to Do with It? (1993)': 'tt0108551',\n",
    "    ' World’s Fastest Indian, The (2005, New Zealand)': 'tt0412080',\n",
    "    ' Ali Zoua: Prince of the Streets (2000, Morocco)': 'tt0260688',\n",
    "    ' Bicycle Thief, The (1948, France)': 'tt0040522',\n",
    "    ' Born into Brothels (2004, India)': 'tt0388789',\n",
    "    ' City of Lost Children, The (1995, France)': 'tt0112682',\n",
    "    ' Color Purple, The (1985)': 'tt0088939',\n",
    "    ' Da Vinci Code, The (2006)': 'tt0382625',\n",
    "    ' Diving Bell and the Butterfly, The (2007, France/U.S.)': 'tt0401383',\n",
    "    ' East-West (1999, France)': 'tt0181530',\n",
    "    ' Endurance, The (2000, Germany/U.S.)': 'tt0264578',\n",
    "    ' Grapes of Wrath, The (1940)': 'tt0032551',\n",
    "    ' Great Debaters, The (2007)': 'tt0427309',\n",
    "    ' Harry Potter (2001; 2002; 2004; 2005; 2007)': ['tt0241527', 'tt0295297', 'tt0304141', 'tt0330373', 'tt0373889', 'tt0417741', 'tt0926084', 'tt1201607'],\n",
    "    ' Hours, The(2002)': 'tt0274558',\n",
    "    ' Island on Bird Street, The (2000)': 'tt0119389',\n",
    "    ' Italian, The (2005, Russia)': 'tt0450450',\n",
    "    '268Kill Bill: Vol. 1 and Vol. 2 (2003; 2004)': ['tt0266697', 'tt0378194'],\n",
    "    ' Maria, Full of Grace (2004, Colum-bia/U.S.)': 'tt0390221',\n",
    "    ' Mighty Heart, A (2007)': 'tt0829459',\n",
    "    ' Old Well (1986, China)': 'tt0091377',\n",
    "    ' Pianist, The (2002, France/Germany/U.K./Poland)': 'tt0253474',\n",
    "    ' Pride of the Yankees, The (1942)': 'tt0035211',\n",
    "    ' Pursuit of Happyness, The (2006)': 'tt0454921',\n",
    "    '  Return, The (2003, Russia)': 'tt0376968',\n",
    "    ' Secret of Dr. Kildare, The (1939)': 'tt0031909',\n",
    "    ' Spirit of St. Louis, The (1957)': 'tt0051003',\n",
    "    ' Story of Qiu Ju, The (1992, China/Hong Kong)': 'tt0105197',\n",
    "    ' Affair to Remember, An (1957)': 'tt0050105',\n",
    "    ' Breakfast at Tiffany’s (1961)': 'tt0054698',\n",
    "    ' Bridges of Madison County, The (1995)': 'tt0112579',\n",
    "    ' Dr. Zhivago (1965)': 'tt0059113',\n",
    "    ' English Patient, The (1996)': 'tt0116209',\n",
    "    ' Fisher King, The (1991)': 'tt0101889',\n",
    "    ' Green Mile, The (1999)': 'tt0120689',\n",
    "    ' 269Happy Endings (2005)': 'tt0361693',\n",
    "    ' Hired Heart, The (1997)': 'tt0128251',\n",
    "    ' Holiday, The (2006)': 'tt0457939',\n",
    "    ' Illusionist, The (2006)': 'tt0443543',\n",
    "    ' Kid, The (1921)': 'tt0012349',\n",
    "    ' Lake House, The (2006)': 'tt0410297',\n",
    "    ' Last Kiss, The (2006)': 'tt0434139',\n",
    "    ' Like Water for Chocolate (1992, Mexico)': 'tt0103994',\n",
    "    ' Monsters Ball (2001)': 'tt0285742',\n",
    "    ' Namesake, The (2006, India/U.S.)': 'tt0433416',\n",
    "    ' New World, The (2005)': 'tt0402399',\n",
    "    ' Notebook, The (2004)': 'tt0332280',\n",
    "    ' Officer and a Gentleman, An (1982)': 'tt0084434',\n",
    "    ' OH in Ohio, The (2006)': 'tt0422861',\n",
    "    ' Paris, I Love You (2006, France)': 'tt0401711',\n",
    "    ' Perfect World, A (1993)': 'tt0107808',\n",
    "    ' Phantom of the Opera, The (2004)': 'tt0293508',\n",
    "    ' Postman, The (Il Postino, 1994, France)': 'tt0110877',\n",
    "    ' Princess Bride, The (1987)': 'tt0093779',\n",
    "    ' River Runs Through It, A (1992)': 'tt0105265',\n",
    "    ' Road Home, The (1999, China)': 'tt0235060',\n",
    "    ' Short Film About Love, A (1988, Poland)': 'tt0095467',\n",
    "    ' Something’s Gotta Give (2003)': 'tt0337741',\n",
    "    ' Sophie’s Choice (1982)': 'tt0084707',\n",
    "    ' Story of Us, The (1999)': 'tt0160916',\n",
    "    ' Taste of Others, The (2000, France)': 'tt0216787',\n",
    "    ' Thelma and Louise (1991)': 'tt0103074',\n",
    "    ' Tiger and the Snow, The (2005, Italy)': 'tt0419198',\n",
    "    ' When Harry Met Sally 1989)': 'tt0098635',\n",
    "    ' Amelie (2001, France)': 'tt0211915',\n",
    "    ' Babe; Babe: Pig in the City (1995; 1998)': 'tt0120595',\n",
    "    ' Babette’s Feast (1987, Denmark)': 'tt0092603',\n",
    "    ' Bagdad Café (1987, West Germany/U.S.)': 'tt0095801',\n",
    "    ' Bear, The (1988, France)': 'tt0095800',\n",
    "    ' Cherry Orchard, The (1999, Greece/Cyprus/France)': 'tt0144134',\n",
    "    ' Christmas Carol, A (1984)': 'tt0087056',\n",
    "    ' Cider House Rules (1999)': 'tt0124315',\n",
    "    ' Cup, The (1999, Bhutan)': 'tt0201840',\n",
    "    ' Family Man, The (2000)': 'tt0218967',\n",
    "    ' House of Sand & Fog (2003)': 'tt0315983',\n",
    "    ' Savages, The (2007)': 'tt0775529',\n",
    "    'African Queen, The (1951)': 'tt0043265',\n",
    "    ' Coal Miner’s Daughter (1980)': 'tt0080549',\n",
    "    ' Don’t Come Knocking (2005)': 'tt0377800',\n",
    "    ' Five Senses, The (1999)': 'tt0168794',\n",
    "    ' Great New Wonderful, The (2005)': 'tt0402230',\n",
    "    ' History of Violence, A (2005)': 'tt0399146',\n",
    "    ' Killing Fields,The (1984)': 'tt0087553',\n",
    "    ' Bad News Bears, The (1976; 2005)': 'tt0074174',\n",
    "    ' Batteries Not Included (1987)': 'tt0092494',\n",
    "    ' Best Years of Our Lives, The (1946)': 'tt0036868',\n",
    "    ' 271Divine Secrets of the Ya-ya Sisterhood, The (2002)': 'tt0279778',\n",
    "    ' Game of Their Lives, The (2005)': 'tt0354595',\n",
    "    ' League of Their Own, A(1992)': 'tt0104694',\n",
    "    ' Longest Yard, The (2005)': 'tt0398165',\n",
    "    ' Mighty Ducks, The (1992)': 'tt0104868',\n",
    "    ' Mighty Wind, A (2003)': 'tt0310281',\n",
    "    ' People Say I’m Crazy (2003)': 'tt0379926',\n",
    "    ' Prairie Home Companion, A (2006)': 'tt0420087',\n",
    "    ' Rookie, The (2002)': 'tt0265662',\n",
    "    ' Sea Inside, The (2004, Spain)': 'tt0369702',\n",
    "    ' Shipping News, The (2001)': 'tt0120824',\n",
    "    ' Shrek; Shrek 2; Shrek the Third (2001; 2004; 2007)': ['tt0126029', 'tt0298148', 'tt0413267'],\n",
    "    ' Sisterhood of the Traveling Pants, The (2005)': 'tt1018785',\n",
    "    ' Station Agent, The (2003)': 'tt0340377',\n",
    "    ' Widow of Saint Pierre, The (2000, France)': 'tt0191636',\n",
    "    ' Adventures of Robin Hood, The (1938)': 'tt0029843',\n",
    "    ' Gentleman’s Agreement (1947)': 'tt0039416',\n",
    "    ' Girl in the Café, The (2005, U.K./U.S.)': 'tt0443518',\n",
    "    ' Guess Who’s Coming to Diner (1967)': 'tt0061735',\n",
    "    ' Last Wave, The (1977, Australia)': 'tt0076299',\n",
    "    ' Motorcycle Diaries (2004, Argentina)': 'tt0318462',\n",
    "    ' Sullivan’s Travels (1941)': 'tt0034240',\n",
    "    ' X-Men, X2, X-Men: The Last Stand (2000; 2003; 2006)': ['tt0120903', 'tt0290334', 'tt0376994'],\n",
    "    ' Inconvenient Truth, An (2006)': 'tt0497116',\n",
    "    ' Jimmy Carter: Man From Plains (2007)': 'tt0913958',\n",
    "    ' Last King of Scotland, The (2006)': 'tt0455590',\n",
    "    ' Lion King, The (1994)': 'tt0110357',\n",
    "    ' Man for All Seasons, A (1966)': 'tt0060665',\n",
    "    ' Prize Winner of Defiance Ohio (2005)': 'tt0406158',\n",
    "    ' Sixth Sense, The (1999)': 'tt0167404',\n",
    "    ' Twelve O’Clock High (1949)': 'tt0041996',\n",
    "    ' Angela’s Ashes (1999)': 'tt0145653',\n",
    "    ' City of No Limits, The (2002, Spain)': 'tt0311072',\n",
    "    ' Crossing Guard, The (1995)': 'tt0112744',\n",
    "    ' No Man’s Land (2002, Bosnia-Herzegovina)': 'tt0283509',\n",
    "    ' O Brother, Where Art Thou (2000)': 'tt0190590',\n",
    "    ' Squid and the Whale, The (2005)': 'tt0367089',\n",
    "    ' Straight Story, The (1999)': 'tt0166896',\n",
    "    ' Thousand Acres, A (1997)': 'tt0120323',\n",
    "    ' Unfinished Life, An (2005)': 'tt0350261',\n",
    "    ' Upside of Anger, The (2005)': 'tt0365885',\n",
    "    ' Fourth Wise Man, The (1985)': 'tt0089165',\n",
    "    ' Keys of the Kingdom, The (1944)': 'tt0036983',\n",
    "    ' 273My Super Ex-Girlfriend (2006)': 'tt0465624',\n",
    "    ' Passion of the Christ, The (2004)': 'tt0335345',\n",
    "    ' Ringer, The (2005)': 'tt0267891',\n",
    "    ' Truman Show, The (1998)': 'tt0120382',\n",
    "    ' Day the Earth Stood Still,The (1951)': 'tt0970416',\n",
    "    ' Queen, The (2006, U.K.)': 'tt0436697',\n",
    "    ' Road Home,The (1999, China)': 'tt0235060',\n",
    "    ' Shawshank Redemption, The (1994)': 'tt0111161',\n",
    "    ' Story of the Weeping Camel, The (2004, Mongolia)': 'tt0373861',\n",
    "    ' Bourne Identity; Bourne Supremacy; Bourne Ultimatum, The (2002; 2004; 2007)': ['tt0372183', 'tt0440963', 'tt0258463'],\n",
    "    ' Bridge on the River Kwai, The (1957)': 'tt0050212',\n",
    "    ' Brothers, The (2001)': 'tt0250274',\n",
    "    ' Maltese Falcon, The (1941)': 'tt0022111',\n",
    "    ' Paper Chase, The (1973)': 'tt0070509',\n",
    "    ' Snow Walker, The (2003, Canada)': 'tt0337721',\n",
    "    'Spring, Summer, Fall, Winter…and Spring (2003, South Korea)': 'tt0374546',\n",
    "    ' Syrian Bride,The (2004, Israel/France)': 'tt0423310',\n",
    "    ' Warrior, The (2001)': 'tt0295682',\n",
    "    ' Woodsman, The (2004)': 'tt0361127',\n",
    "    ' America’s Heart and Soul (2004)': 'tt0381006',\n",
    "    ' Celestine Prophecy (2006)': 'tt0398842',\n",
    "    ' Color of Paradise, The (1999, Iran)': 'tt0191043',\n",
    "    ' It’s a Wonderful Life (1946)': 'tt0038650',\n",
    "    ' Pillow Book, The (1997, France/U.K.)': 'tt0114134',\n",
    "    ' Prestige, The (2006)': 'tt0482571',\n",
    "    ' Scent of Green Papaya, The (1993,  Vietnam)': 'tt0107617',\n",
    "    ' Vertical Ray of the Sun, The (2000,  Vietnam)': 'tt0224578',\n",
    "    ' Wind Will Carry Us, The (1999, Iran)': 'tt0209463',\n",
    "    ' Doctor, The (1991)': 'tt0101746',\n",
    "    ' For One More Day (2007)': 'tt1023504',\n",
    "    ' Good Year, A (2006)': 'tt0401445',\n",
    "    ' Last Samurai, The (2003)': 'tt0325710',\n",
    "    ' Rory O’Shea Was Here (2004)': 'tt0417791',\n",
    "    ' Ultimate Gift, The (2006)': 'tt0482629',\n",
    "    ' Willow Tree, The (2005, Iran)': 'tt0415607',\n",
    "    ' Black Stallion, The (1979)': 'tt0078872',\n",
    "    ' Blue Butterfly (2004)': 'tt0313300',\n",
    "    ' Cooler, The (2003)': 'tt0318374',\n",
    "    ' E.T.: The Extra-Terrestrial (1982)': 'tt0083866',\n",
    "    ' Hustle and Flow (2005)': 'tt0410097',\n",
    "    ' Maldonado Miracle, The (2003)': 'tt0328097',\n",
    "    ' Miracle Worker, The (1962)': 'tt0056241',\n",
    "    ' Nativity Story, The (2006)': 'tt0762121',\n",
    "    ' Perez Family, The (1995)': 'tt0114113',\n",
    "    ' Raisin in the Sun, A (1961)': 'tt0055353',\n",
    "    ' Very Long Engagement, A (2004, France)': 'tt0344510',\n",
    "    ' Wizard of Oz, The (1939)': 'tt0032138',\n",
    "    ' Laughing Club of India, The (1999, India)': 'tt0283448',\n",
    "    ' Road to Welville, The (1994)': 'tt0111001',\n",
    "    '11’09”01 – September 11 (2002)': 'tt0328802',\n",
    "    ' 13 Conversations About One Thing (2001)': 'tt0268690',\n",
    "    ' Apostle, The (1987)': 'tt0118632',\n",
    "    ' Astronaut Farmer, The (2006)': 'tt0469263',\n",
    "    ' Believer, The (2001)': 'tt0247199',\n",
    "    ' Bible, The (1966)': 'tt0060164',\n",
    "    ' Big Kahuna, The (1999)': 'tt0189584',\n",
    "    ' Book of Life, The (1998)': 'tt0167059',\n",
    "    ' Bucket List, The (2007)': 'tt0825232',\n",
    "    ' Chronicles of Narnia: The Lion, the Witch, and the Wardrobe, The (2005)': 'tt0363771',\n",
    "    ' Crime of Father Amaro, The (2002, Mex-ico)': 'tt0313196',\n",
    "    ' Day Christ Died, The (1980)': 'tt0080595',\n",
    "    'Emmanuel’s Gift (2005)': 'tt0447016',\n",
    "    ' From the Manger to the Cross (1912)': 'tt0002199',\n",
    "    ' God Is Great and I Am Not (2001, France)': 'tt0287986',\n",
    "    ' Golden Compass, The (2007)': 'tt0385752',\n",
    "    ' Gospel According to Saint Matthew, The (1964, Italy)': 'tt0058715',\n",
    "    ' Gospel of John, The (2003)': 'tt0377992',\n",
    "    ' Greatest Story Ever Told, The (1965)': 'tt0059245',\n",
    "    ' Heaven’s Bookstore (2004, Japan)': 'tt0423360',\n",
    "    ' Hitchhiker’s Guide to the Galaxy, The (2005)': 'tt0371724',\n",
    "    ' Incredibles, The (2004)': 'tt0317705',\n",
    "    ' James’ Journey to Jerusalem (2003, Is-rael)': 'tt0305178',\n",
    "    ' King of Kings, The (1961)': 'tt0055047',\n",
    "    ' Last Temptation of Christ, The (1988)': 'tt0095497',\n",
    "    ' Miracle Maker, The (2000)': 'tt0208298',\n",
    "    ' Monty Python’s Life of Brian (1979)': 'tt0079470',\n",
    "    ' Monty Python’s the Meaning of Life (1983, U.K.)': 'tt0472471',\n",
    "    ' Princess and the Warrior, The (2000, Germany)': 'tt0203632',\n",
    "    ' Razor’s Edge, The (1984)': 'tt0087980',\n",
    "    ' Secret of Roan Inish (1994, U.S./Ireland)': 'tt0111112',\n",
    "    ' Seventh Seal, The (1957, Sweden)': 'tt0050976',\n",
    "    ' 277Sliding Doors (1998)': 'tt0120148',\n",
    "    ' Tao of Steve, The (2000)': 'tt0234853',\n",
    "    ' Ten Commandments, The (1956)': 'tt0049833',\n",
    "    ' Therese: Story of St. Therese of Liseaux (2004)': 'tt0286218',\n",
    "    ' War Within, The (2005)': 'tt0414344',\n",
    "    ' Weather Man, The (2005)': 'tt0384680',\n",
    "    ' Y Tu Mama Tambien (2001, Mexico)': 'tt0245574',\n",
    "}"
   ]
  },
  {
   "cell_type": "markdown",
   "metadata": {},
   "source": [
    "#### There are 6 movies that don't exist in the IMDB database (mainly videos)"
   ]
  },
  {
   "cell_type": "code",
   "execution_count": 37,
   "metadata": {},
   "outputs": [
    {
     "name": "stderr",
     "output_type": "stream",
     "text": [
      "100%|████████████████████████████████████████████████████████████████████████████████| 282/282 [00:20<00:00, 14.05it/s]\n"
     ]
    }
   ],
   "source": [
    "char_str_cols = paper_df.columns.to_list()[1:-1]\n",
    "paper_movies = []\n",
    "\n",
    "for movie in paper_df['Unnamed: 0']:\n",
    "    \n",
    "    paper_movies.append(movie.strip())\n",
    "\n",
    "for movie_name in tqdm(real_names.keys()):\n",
    "    \n",
    "    if type(real_names[movie_name]) != list: \n",
    "    \n",
    "        relevant_row = paper_df.loc[paper_movies.index(movie_name.strip()), :] \n",
    "        idx = np.where(movie_df['tconst'] == real_names[movie_name])\n",
    "        \n",
    "        for col in char_str_cols:\n",
    "            movie_df.loc[idx[0], col] = int(relevant_row[col])\n",
    "            \n",
    "    else: \n",
    "        \n",
    "        for mov in real_names[movie_name]:\n",
    "            \n",
    "            relevant_row = paper_df.loc[paper_movies.index(movie_name.strip()), :]\n",
    "            idx = np.where(movie_df['tconst'] == mov)\n",
    "        \n",
    "            for col in char_str_cols:\n",
    "                movie_df.loc[idx[0], col] = int(relevant_row[col])\n",
    "    "
   ]
  },
  {
   "cell_type": "markdown",
   "metadata": {},
   "source": [
    "#### Create column number of meaningful votes"
   ]
  },
  {
   "cell_type": "code",
   "execution_count": 38,
   "metadata": {},
   "outputs": [],
   "source": [
    "num_meaning_votes = movie_df['Meaningfulness'].apply(lambda x: 1 if x > 0.0 else 0)\n",
    "movie_df.insert(loc=9, column='numMeaningVotes', value=num_meaning_votes)"
   ]
  },
  {
   "cell_type": "code",
   "execution_count": 39,
   "metadata": {},
   "outputs": [],
   "source": [
    "movie_df.rename(columns = {'tconst': 'movieId',\n",
    "                           'numVotes': 'numEnjoyVotes',\n",
    "                           'newAverageRating': 'averageEnjoyRating',\n",
    "                           'Meaningfulness': 'averageMeaningRating'\n",
    "                          }, inplace = True)\n",
    "\n",
    "movie_df = movie_df.drop(columns=['Unnamed: 0'])"
   ]
  },
  {
   "cell_type": "markdown",
   "metadata": {},
   "source": [
    "### Keep only the movies with character strengths"
   ]
  },
  {
   "cell_type": "code",
   "execution_count": 40,
   "metadata": {},
   "outputs": [],
   "source": [
    "has_ch_strengths = movie_df['averageMeaningRating'] > 0.0\n",
    "ch_movie_df = movie_df[has_ch_strengths]"
   ]
  },
  {
   "cell_type": "markdown",
   "metadata": {},
   "source": [
    "### Get the movie posters"
   ]
  },
  {
   "cell_type": "code",
   "execution_count": 41,
   "metadata": {},
   "outputs": [],
   "source": [
    "API_KEY = 'f3090026c1cc5b7fbf9fc9b8d619fe57'\n",
    "\n",
    "def get_poster_url(key, movie_id):\n",
    "\n",
    "    CONFIG_PATTERN = 'http://api.themoviedb.org/3/configuration?api_key={key}'\n",
    "\n",
    "    url = CONFIG_PATTERN.format(key=key)\n",
    "    r = requests.get(url)\n",
    "    config = r.json()\n",
    "\n",
    "    IMG_PATTERN = 'http://api.themoviedb.org/3/movie/{imdbid}/images?api_key={key}'\n",
    "\n",
    "    r = requests.get(IMG_PATTERN.format(key=key,imdbid=movie_id))\n",
    "    api_response = r.json()\n",
    "\n",
    "    try:\n",
    "        api_response['id']\n",
    "        # sizes are (as stored): ['w92', 'w154', 'w185', 'w342', 'w500', 'w780', 'original']\n",
    "        url = config['images']['secure_base_url'] + config['images']['poster_sizes'][0] + api_response['posters'][0]['file_path']\n",
    "        \n",
    "    except:\n",
    "        #print(f\"The poster was not found for movie {movie_id}\")\n",
    "        url = 'Unknown'\n",
    "        \n",
    "    return url"
   ]
  },
  {
   "cell_type": "code",
   "execution_count": 42,
   "metadata": {},
   "outputs": [
    {
     "name": "stderr",
     "output_type": "stream",
     "text": [
      "100%|████████████████████████████████████████████████████████████████████████████████| 670/670 [02:08<00:00,  5.23it/s]\n"
     ]
    }
   ],
   "source": [
    "poster_urls = []\n",
    "\n",
    "for _, row in tqdm(ch_movie_df.iterrows(), total=ch_movie_df.shape[0]):\n",
    "    poster_urls.append(get_poster_url(API_KEY, row['movieId']))\n",
    "    \n",
    "ch_movie_df.insert(loc=6, column='posterUrl', value=poster_urls)"
   ]
  },
  {
   "cell_type": "markdown",
   "metadata": {},
   "source": [
    "### Separate the database in two tables: one containing info and the other ratings"
   ]
  },
  {
   "cell_type": "code",
   "execution_count": 44,
   "metadata": {},
   "outputs": [],
   "source": [
    "movie_info_df = ch_movie_df.iloc[:, :7]\n",
    "movie_ratings_df = ch_movie_df.iloc[:, 8:]\n",
    "movie_ratings_df.insert(loc=0, column='movieId', value=ch_movie_df['movieId'])"
   ]
  },
  {
   "cell_type": "code",
   "execution_count": 45,
   "metadata": {},
   "outputs": [],
   "source": [
    "movie_info_df.to_csv('movie_info.csv', index=False)\n",
    "movie_ratings_df.to_csv('movie_ratings.csv', index=False)"
   ]
  }
 ],
 "metadata": {
  "kernelspec": {
   "display_name": "Python 3",
   "language": "python",
   "name": "python3"
  },
  "language_info": {
   "codemirror_mode": {
    "name": "ipython",
    "version": 3
   },
   "file_extension": ".py",
   "mimetype": "text/x-python",
   "name": "python",
   "nbconvert_exporter": "python",
   "pygments_lexer": "ipython3",
   "version": "3.8.5"
  }
 },
 "nbformat": 4,
 "nbformat_minor": 5
}
